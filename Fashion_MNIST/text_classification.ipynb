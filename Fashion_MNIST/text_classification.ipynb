{
 "cells": [
  {
   "cell_type": "code",
   "execution_count": 5,
   "metadata": {},
   "outputs": [
    {
     "name": "stdout",
     "output_type": "stream",
     "text": [
      "1.10.0\n"
     ]
    }
   ],
   "source": [
    "import tensorflow as tf\n",
    "from tensorflow import keras\n",
    "import numpy as np \n",
    "\n",
    "print(tf.__version__)"
   ]
  },
  {
   "cell_type": "code",
   "execution_count": 6,
   "metadata": {},
   "outputs": [
    {
     "name": "stdout",
     "output_type": "stream",
     "text": [
      "Downloading data from https://storage.googleapis.com/tensorflow/tf-keras-datasets/imdb.npz\n",
      "17465344/17464789 [==============================] - 1s 0us/step\n"
     ]
    }
   ],
   "source": [
    "imdb = keras.datasets.imdb\n",
    "(train_data, train_labels), (test_data, test_labels) = imdb.load_data(num_words=10000)"
   ]
  },
  {
   "cell_type": "code",
   "execution_count": 7,
   "metadata": {},
   "outputs": [
    {
     "name": "stdout",
     "output_type": "stream",
     "text": [
      "Training entries: 25000, labels:25000\n"
     ]
    }
   ],
   "source": [
    "#Explore the data\n",
    "print(\"Training entries: {}, labels:{}\".format(len(train_data), len(train_labels)))"
   ]
  },
  {
   "cell_type": "code",
   "execution_count": 9,
   "metadata": {},
   "outputs": [
    {
     "name": "stdout",
     "output_type": "stream",
     "text": [
      "[1, 14, 22, 16, 43, 530, 973, 1622, 1385, 65, 458, 4468, 66, 3941, 4, 173, 36, 256, 5, 25, 100, 43, 838, 112, 50, 670, 2, 9, 35, 480, 284, 5, 150, 4, 172, 112, 167, 2, 336, 385, 39, 4, 172, 4536, 1111, 17, 546, 38, 13, 447, 4, 192, 50, 16, 6, 147, 2025, 19, 14, 22, 4, 1920, 4613, 469, 4, 22, 71, 87, 12, 16, 43, 530, 38, 76, 15, 13, 1247, 4, 22, 17, 515, 17, 12, 16, 626, 18, 2, 5, 62, 386, 12, 8, 316, 8, 106, 5, 4, 2223, 5244, 16, 480, 66, 3785, 33, 4, 130, 12, 16, 38, 619, 5, 25, 124, 51, 36, 135, 48, 25, 1415, 33, 6, 22, 12, 215, 28, 77, 52, 5, 14, 407, 16, 82, 2, 8, 4, 107, 117, 5952, 15, 256, 4, 2, 7, 3766, 5, 723, 36, 71, 43, 530, 476, 26, 400, 317, 46, 7, 4, 2, 1029, 13, 104, 88, 4, 381, 15, 297, 98, 32, 2071, 56, 26, 141, 6, 194, 7486, 18, 4, 226, 22, 21, 134, 476, 26, 480, 5, 144, 30, 5535, 18, 51, 36, 28, 224, 92, 25, 104, 4, 226, 65, 16, 38, 1334, 88, 12, 16, 283, 5, 16, 4472, 113, 103, 32, 15, 16, 5345, 19, 178, 32]\n"
     ]
    }
   ],
   "source": [
    "print(train_data[0])"
   ]
  },
  {
   "cell_type": "code",
   "execution_count": 11,
   "metadata": {},
   "outputs": [
    {
     "name": "stdout",
     "output_type": "stream",
     "text": [
      "218\n"
     ]
    }
   ],
   "source": [
    "print(len(train_data[0]))"
   ]
  },
  {
   "cell_type": "code",
   "execution_count": 15,
   "metadata": {},
   "outputs": [],
   "source": [
    "word_index = imdb.get_word_index()\n",
    "word_index = {k:(v+3) for k,v in word_index.items()}\n",
    "word_index[\"<PAD>\"] = 0\n",
    "word_index[\"<START>\"] = 1\n",
    "word_index[\"<UNK>\"] = 2\n",
    "word_index[\"<UNUSED>\"] = 3\n",
    "reverse_word_index = dict([(value, key) for (key, value) in word_index.items()])\n",
    "def decode_review(text):\n",
    "    return ' '.join([reverse_word_index.get(i, '?') for i in text])"
   ]
  },
  {
   "cell_type": "code",
   "execution_count": 16,
   "metadata": {},
   "outputs": [
    {
     "data": {
      "text/plain": [
       "\"<START> this film was just brilliant casting location scenery story direction everyone's really suited the part they played and you could just imagine being there robert <UNK> is an amazing actor and now the same being director <UNK> father came from the same scottish island as myself so i loved the fact there was a real connection with this film the witty remarks throughout the film were great it was just brilliant so much that i bought the film as soon as it was released for <UNK> and would recommend it to everyone to watch and the fly fishing was amazing really cried at the end it was so sad and you know what they say if you cry at a film it must have been good and this definitely was also <UNK> to the two little boy's that played the <UNK> of norman and paul they were just brilliant children are often left out of the <UNK> list i think because the stars that play them all grown up are such a big profile for the whole film but these children are amazing and should be praised for what they have done don't you think the whole story was so lovely because it was true and was someone's life after all that was shared with us all\""
      ]
     },
     "execution_count": 16,
     "metadata": {},
     "output_type": "execute_result"
    }
   ],
   "source": [
    "decode_review(train_data[0])"
   ]
  },
  {
   "cell_type": "code",
   "execution_count": 20,
   "metadata": {},
   "outputs": [],
   "source": [
    "#Prepare the data\n",
    "train_data = keras.preprocessing.sequence.pad_sequences(train_data, value=word_index[\"<PAD>\"], padding='post', maxlen=256)\n",
    "test_data = keras.preprocessing.sequence.pad_sequences(test_data, value=word_index[\"<PAD>\"], padding='post', maxlen=256)\n"
   ]
  },
  {
   "cell_type": "code",
   "execution_count": 21,
   "metadata": {},
   "outputs": [
    {
     "data": {
      "text/plain": [
       "(256, 256)"
      ]
     },
     "execution_count": 21,
     "metadata": {},
     "output_type": "execute_result"
    }
   ],
   "source": [
    "len(train_data[0]),len(train_data[1])"
   ]
  },
  {
   "cell_type": "code",
   "execution_count": 22,
   "metadata": {},
   "outputs": [
    {
     "name": "stdout",
     "output_type": "stream",
     "text": [
      "[   1   14   22   16   43  530  973 1622 1385   65  458 4468   66 3941    4\n",
      "  173   36  256    5   25  100   43  838  112   50  670    2    9   35  480\n",
      "  284    5  150    4  172  112  167    2  336  385   39    4  172 4536 1111\n",
      "   17  546   38   13  447    4  192   50   16    6  147 2025   19   14   22\n",
      "    4 1920 4613  469    4   22   71   87   12   16   43  530   38   76   15\n",
      "   13 1247    4   22   17  515   17   12   16  626   18    2    5   62  386\n",
      "   12    8  316    8  106    5    4 2223 5244   16  480   66 3785   33    4\n",
      "  130   12   16   38  619    5   25  124   51   36  135   48   25 1415   33\n",
      "    6   22   12  215   28   77   52    5   14  407   16   82    2    8    4\n",
      "  107  117 5952   15  256    4    2    7 3766    5  723   36   71   43  530\n",
      "  476   26  400  317   46    7    4    2 1029   13  104   88    4  381   15\n",
      "  297   98   32 2071   56   26  141    6  194 7486   18    4  226   22   21\n",
      "  134  476   26  480    5  144   30 5535   18   51   36   28  224   92   25\n",
      "  104    4  226   65   16   38 1334   88   12   16  283    5   16 4472  113\n",
      "  103   32   15   16 5345   19  178   32    0    0    0    0    0    0    0\n",
      "    0    0    0    0    0    0    0    0    0    0    0    0    0    0    0\n",
      "    0    0    0    0    0    0    0    0    0    0    0    0    0    0    0\n",
      "    0]\n"
     ]
    }
   ],
   "source": [
    "print(train_data[0])"
   ]
  },
  {
   "cell_type": "code",
   "execution_count": 24,
   "metadata": {},
   "outputs": [
    {
     "name": "stdout",
     "output_type": "stream",
     "text": [
      "_________________________________________________________________\n",
      "Layer (type)                 Output Shape              Param #   \n",
      "=================================================================\n",
      "embedding_1 (Embedding)      (None, None, 16)          160000    \n",
      "_________________________________________________________________\n",
      "global_average_pooling1d_1 ( (None, 16)                0         \n",
      "_________________________________________________________________\n",
      "dense_2 (Dense)              (None, 16)                272       \n",
      "_________________________________________________________________\n",
      "dense_3 (Dense)              (None, 1)                 17        \n",
      "=================================================================\n",
      "Total params: 160,289\n",
      "Trainable params: 160,289\n",
      "Non-trainable params: 0\n",
      "_________________________________________________________________\n"
     ]
    }
   ],
   "source": [
    "#Build the model\n",
    "vocab_size = 10000\n",
    "model = keras.Sequential()\n",
    "model.add(keras.layers.Embedding(vocab_size, 16))\n",
    "model.add(keras.layers.GlobalAveragePooling1D())\n",
    "model.add(keras.layers.Dense(16, activation=tf.nn.relu))\n",
    "model.add(keras.layers.Dense(1,activation=tf.nn.sigmoid))\n",
    "model.summary()\n"
   ]
  },
  {
   "cell_type": "code",
   "execution_count": 25,
   "metadata": {},
   "outputs": [],
   "source": [
    "\n",
    "model.compile(optimizer=tf.train.AdamOptimizer(),\n",
    "              loss='binary_crossentropy',\n",
    "              metrics=['accuracy'])"
   ]
  },
  {
   "cell_type": "code",
   "execution_count": 26,
   "metadata": {},
   "outputs": [],
   "source": [
    "\n",
    "x_val = train_data[:10000]\n",
    "partial_x_train = train_data[10000:]\n",
    "\n",
    "y_val = train_labels[:10000]\n",
    "partial_y_train = train_labels[10000:]"
   ]
  },
  {
   "cell_type": "code",
   "execution_count": 27,
   "metadata": {},
   "outputs": [
    {
     "name": "stdout",
     "output_type": "stream",
     "text": [
      "Train on 15000 samples, validate on 10000 samples\n",
      "Epoch 1/40\n",
      "15000/15000 [==============================] - 4s 251us/step - loss: 0.6962 - acc: 0.5086 - val_loss: 0.6930 - val_acc: 0.5056\n",
      "Epoch 2/40\n",
      "15000/15000 [==============================] - 1s 65us/step - loss: 0.6919 - acc: 0.5224 - val_loss: 0.6913 - val_acc: 0.5247\n",
      "Epoch 3/40\n",
      "15000/15000 [==============================] - 1s 62us/step - loss: 0.6901 - acc: 0.5385 - val_loss: 0.6899 - val_acc: 0.5595\n",
      "Epoch 4/40\n",
      "15000/15000 [==============================] - 1s 61us/step - loss: 0.6883 - acc: 0.5701 - val_loss: 0.6879 - val_acc: 0.5727\n",
      "Epoch 5/40\n",
      "15000/15000 [==============================] - 1s 67us/step - loss: 0.6858 - acc: 0.5939 - val_loss: 0.6851 - val_acc: 0.5881\n",
      "Epoch 6/40\n",
      "15000/15000 [==============================] - 1s 66us/step - loss: 0.6821 - acc: 0.6345 - val_loss: 0.6810 - val_acc: 0.6434\n",
      "Epoch 7/40\n",
      "15000/15000 [==============================] - 1s 62us/step - loss: 0.6765 - acc: 0.6963 - val_loss: 0.6753 - val_acc: 0.6715\n",
      "Epoch 8/40\n",
      "15000/15000 [==============================] - 1s 64us/step - loss: 0.6687 - acc: 0.7305 - val_loss: 0.6669 - val_acc: 0.7197\n",
      "Epoch 9/40\n",
      "15000/15000 [==============================] - 1s 60us/step - loss: 0.6582 - acc: 0.7461 - val_loss: 0.6556 - val_acc: 0.7358\n",
      "Epoch 10/40\n",
      "15000/15000 [==============================] - 1s 62us/step - loss: 0.6441 - acc: 0.7580 - val_loss: 0.6409 - val_acc: 0.7437\n",
      "Epoch 11/40\n",
      "15000/15000 [==============================] - 1s 61us/step - loss: 0.6267 - acc: 0.7551 - val_loss: 0.6234 - val_acc: 0.7558\n",
      "Epoch 12/40\n",
      "15000/15000 [==============================] - 1s 64us/step - loss: 0.6051 - acc: 0.7768 - val_loss: 0.6024 - val_acc: 0.7662\n",
      "Epoch 13/40\n",
      "15000/15000 [==============================] - 1s 62us/step - loss: 0.5804 - acc: 0.7885 - val_loss: 0.5803 - val_acc: 0.7779\n",
      "Epoch 14/40\n",
      "15000/15000 [==============================] - 1s 64us/step - loss: 0.5542 - acc: 0.8011 - val_loss: 0.5554 - val_acc: 0.7893\n",
      "Epoch 15/40\n",
      "15000/15000 [==============================] - 1s 62us/step - loss: 0.5267 - acc: 0.8122 - val_loss: 0.5300 - val_acc: 0.7994\n",
      "Epoch 16/40\n",
      "15000/15000 [==============================] - 1s 62us/step - loss: 0.4994 - acc: 0.8242 - val_loss: 0.5060 - val_acc: 0.8065\n",
      "Epoch 17/40\n",
      "15000/15000 [==============================] - 1s 62us/step - loss: 0.4722 - acc: 0.8372 - val_loss: 0.4824 - val_acc: 0.8202\n",
      "Epoch 18/40\n",
      "15000/15000 [==============================] - 1s 62us/step - loss: 0.4465 - acc: 0.8466 - val_loss: 0.4601 - val_acc: 0.8298\n",
      "Epoch 19/40\n",
      "15000/15000 [==============================] - 1s 67us/step - loss: 0.4225 - acc: 0.8549 - val_loss: 0.4397 - val_acc: 0.8369\n",
      "Epoch 20/40\n",
      "15000/15000 [==============================] - 1s 62us/step - loss: 0.4007 - acc: 0.8634 - val_loss: 0.4217 - val_acc: 0.8413\n",
      "Epoch 21/40\n",
      "15000/15000 [==============================] - 1s 65us/step - loss: 0.3804 - acc: 0.8702 - val_loss: 0.4051 - val_acc: 0.8470\n",
      "Epoch 22/40\n",
      "15000/15000 [==============================] - 1s 61us/step - loss: 0.3624 - acc: 0.8757 - val_loss: 0.3907 - val_acc: 0.8508\n",
      "Epoch 23/40\n",
      "15000/15000 [==============================] - 1s 62us/step - loss: 0.3464 - acc: 0.8815 - val_loss: 0.3784 - val_acc: 0.8542\n",
      "Epoch 24/40\n",
      "15000/15000 [==============================] - 1s 65us/step - loss: 0.3317 - acc: 0.8867 - val_loss: 0.3672 - val_acc: 0.8595\n",
      "Epoch 25/40\n",
      "15000/15000 [==============================] - 1s 66us/step - loss: 0.3186 - acc: 0.8916 - val_loss: 0.3576 - val_acc: 0.8625\n",
      "Epoch 26/40\n",
      "15000/15000 [==============================] - 1s 66us/step - loss: 0.3069 - acc: 0.8943 - val_loss: 0.3491 - val_acc: 0.8670\n",
      "Epoch 27/40\n",
      "15000/15000 [==============================] - 1s 68us/step - loss: 0.2964 - acc: 0.8966 - val_loss: 0.3417 - val_acc: 0.8678\n",
      "Epoch 28/40\n",
      "15000/15000 [==============================] - 1s 64us/step - loss: 0.2864 - acc: 0.9002 - val_loss: 0.3353 - val_acc: 0.8697\n",
      "Epoch 29/40\n",
      "15000/15000 [==============================] - 1s 63us/step - loss: 0.2774 - acc: 0.9027 - val_loss: 0.3296 - val_acc: 0.8726\n",
      "Epoch 30/40\n",
      "15000/15000 [==============================] - 1s 60us/step - loss: 0.2696 - acc: 0.9043 - val_loss: 0.3245 - val_acc: 0.8739\n",
      "Epoch 31/40\n",
      "15000/15000 [==============================] - 1s 62us/step - loss: 0.2614 - acc: 0.9078 - val_loss: 0.3200 - val_acc: 0.8751\n",
      "Epoch 32/40\n",
      "15000/15000 [==============================] - 1s 62us/step - loss: 0.2545 - acc: 0.9092 - val_loss: 0.3161 - val_acc: 0.8763\n",
      "Epoch 33/40\n",
      "15000/15000 [==============================] - 1s 63us/step - loss: 0.2475 - acc: 0.9115 - val_loss: 0.3128 - val_acc: 0.8773\n",
      "Epoch 34/40\n",
      "15000/15000 [==============================] - 1s 63us/step - loss: 0.2410 - acc: 0.9152 - val_loss: 0.3093 - val_acc: 0.8789\n",
      "Epoch 35/40\n",
      "15000/15000 [==============================] - 1s 62us/step - loss: 0.2353 - acc: 0.9171 - val_loss: 0.3064 - val_acc: 0.8794\n",
      "Epoch 36/40\n",
      "15000/15000 [==============================] - 1s 64us/step - loss: 0.2290 - acc: 0.9189 - val_loss: 0.3039 - val_acc: 0.8803\n",
      "Epoch 37/40\n",
      "15000/15000 [==============================] - 1s 68us/step - loss: 0.2238 - acc: 0.9220 - val_loss: 0.3021 - val_acc: 0.8801\n",
      "Epoch 38/40\n",
      "15000/15000 [==============================] - 1s 65us/step - loss: 0.2185 - acc: 0.9225 - val_loss: 0.2992 - val_acc: 0.8817\n",
      "Epoch 39/40\n",
      "15000/15000 [==============================] - 1s 69us/step - loss: 0.2132 - acc: 0.9250 - val_loss: 0.2976 - val_acc: 0.8816\n",
      "Epoch 40/40\n",
      "15000/15000 [==============================] - 1s 67us/step - loss: 0.2084 - acc: 0.9266 - val_loss: 0.2955 - val_acc: 0.8818\n"
     ]
    }
   ],
   "source": [
    "history = model.fit(partial_x_train,\n",
    "                    partial_y_train,\n",
    "                    epochs=40,\n",
    "                    batch_size=512,\n",
    "                    validation_data=(x_val, y_val),\n",
    "                    verbose=1)"
   ]
  },
  {
   "cell_type": "code",
   "execution_count": 28,
   "metadata": {},
   "outputs": [
    {
     "name": "stdout",
     "output_type": "stream",
     "text": [
      "25000/25000 [==============================] - 0s 18us/step\n",
      "[0.31016654489517209, 0.87427999999999995]\n"
     ]
    }
   ],
   "source": [
    "\n",
    "results = model.evaluate(test_data, test_labels)\n",
    "\n",
    "print(results)"
   ]
  },
  {
   "cell_type": "code",
   "execution_count": 29,
   "metadata": {},
   "outputs": [
    {
     "data": {
      "text/plain": [
       "dict_keys(['val_loss', 'val_acc', 'loss', 'acc'])"
      ]
     },
     "execution_count": 29,
     "metadata": {},
     "output_type": "execute_result"
    }
   ],
   "source": [
    "history_dict = history.history\n",
    "history_dict.keys()"
   ]
  },
  {
   "cell_type": "code",
   "execution_count": 30,
   "metadata": {},
   "outputs": [
    {
     "data": {
      "text/plain": [
       "<Figure size 640x480 with 1 Axes>"
      ]
     },
     "metadata": {},
     "output_type": "display_data"
    }
   ],
   "source": [
    "\n",
    "import matplotlib.pyplot as plt\n",
    "\n",
    "acc = history.history['acc']\n",
    "val_acc = history.history['val_acc']\n",
    "loss = history.history['loss']\n",
    "val_loss = history.history['val_loss']\n",
    "\n",
    "epochs = range(1, len(acc) + 1)\n",
    "\n",
    "# \"bo\" is for \"blue dot\"\n",
    "plt.plot(epochs, loss, 'bo', label='Training loss')\n",
    "# b is for \"solid blue line\"\n",
    "plt.plot(epochs, val_loss, 'b', label='Validation loss')\n",
    "plt.title('Training and validation loss')\n",
    "plt.xlabel('Epochs')\n",
    "plt.ylabel('Loss')\n",
    "plt.legend()\n",
    "\n",
    "plt.show()"
   ]
  },
  {
   "cell_type": "code",
   "execution_count": 31,
   "metadata": {},
   "outputs": [
    {
     "data": {
      "image/png": "[encoded data removed]",
      "text/plain": [
       "<Figure size 432x288 with 1 Axes>"
      ]
     },
     "metadata": {},
     "output_type": "display_data"
    }
   ],
   "source": [
    "\n",
    "plt.clf()   # clear figure\n",
    "acc_values = history_dict['acc']\n",
    "val_acc_values = history_dict['val_acc']\n",
    "\n",
    "plt.plot(epochs, acc, 'bo', label='Training acc')\n",
    "plt.plot(epochs, val_acc, 'b', label='Validation acc')\n",
    "plt.title('Training and validation accuracy')\n",
    "plt.xlabel('Epochs')\n",
    "plt.ylabel('Accuracy')\n",
    "plt.legend()\n",
    "\n",
    "plt.show()"
   ]
  }
 ],
 "metadata": {
  "kernelspec": {
   "display_name": "Python 3",
   "language": "python",
   "name": "python3"
  },
  "language_info": {
   "codemirror_mode": {
    "name": "ipython",
    "version": 3
   },
   "file_extension": ".py",
   "mimetype": "text/x-python",
   "name": "python",
   "nbconvert_exporter": "python",
   "pygments_lexer": "ipython3",
   "version": "3.6.6"
  }
 },
 "nbformat": 4,
 "nbformat_minor": 2
}
